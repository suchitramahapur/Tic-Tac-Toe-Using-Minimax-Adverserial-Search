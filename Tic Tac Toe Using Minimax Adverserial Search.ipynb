{
 "cells": [
  {
   "cell_type": "code",
   "execution_count": 1,
   "id": "87538220-56e4-4e8d-b2b2-15e285111932",
   "metadata": {},
   "outputs": [],
   "source": [
    "board = [[\" \" for _ in range(3)] for _ in range(3)]"
   ]
  },
  {
   "cell_type": "code",
   "execution_count": 2,
   "id": "ee968f60-ecac-4729-ab3c-a7aad87916f0",
   "metadata": {},
   "outputs": [
    {
     "data": {
      "text/plain": [
       "[[' ', ' ', ' '], [' ', ' ', ' '], [' ', ' ', ' ']]"
      ]
     },
     "execution_count": 2,
     "metadata": {},
     "output_type": "execute_result"
    }
   ],
   "source": [
    "board"
   ]
  },
  {
   "cell_type": "code",
   "execution_count": 3,
   "id": "fdd6fb61-a37f-4b75-96c0-a2c6a57c3550",
   "metadata": {},
   "outputs": [],
   "source": [
    "def print_board(board):\n",
    "    for row in board:\n",
    "        print(\" | \".join(row))\n",
    "        print(\"-\"*9)"
   ]
  },
  {
   "cell_type": "code",
   "execution_count": 4,
   "id": "6a2c0411-fa77-4fd2-9b89-ed014882639d",
   "metadata": {},
   "outputs": [
    {
     "name": "stdout",
     "output_type": "stream",
     "text": [
      "  |   |  \n",
      "---------\n",
      "  |   |  \n",
      "---------\n",
      "  |   |  \n",
      "---------\n"
     ]
    }
   ],
   "source": [
    "print_board(board)"
   ]
  },
  {
   "cell_type": "code",
   "execution_count": 5,
   "id": "7fed2520-9af6-45bb-9c0f-b2ef96657ed9",
   "metadata": {},
   "outputs": [],
   "source": [
    "def is_board_full(board):\n",
    "    return all(cell != \" \" for row in board for cell in row)"
   ]
  },
  {
   "cell_type": "code",
   "execution_count": 6,
   "id": "07975ae5-449d-48bb-9d1d-3ae339941f94",
   "metadata": {},
   "outputs": [
    {
     "data": {
      "text/plain": [
       "False"
      ]
     },
     "execution_count": 6,
     "metadata": {},
     "output_type": "execute_result"
    }
   ],
   "source": [
    "is_board_full(board)"
   ]
  },
  {
   "cell_type": "code",
   "execution_count": 7,
   "id": "df5e0a76-f1c2-441a-9150-32eb9bf030bc",
   "metadata": {},
   "outputs": [],
   "source": [
    "def is_winner(board, player):\n",
    "    for row in board:\n",
    "        if all(cell==player for cell in row):\n",
    "            return True\n",
    "            \n",
    "    for col in range(3):\n",
    "        if all(row[col]==player for row in board):\n",
    "            return True\n",
    "            \n",
    "    if all(board[i][i]==player for i in range(3)) or all(board[i][2-i]==player for i in range(3)):\n",
    "        return True\n",
    "\n",
    "    return False"
   ]
  },
  {
   "cell_type": "code",
   "execution_count": 8,
   "id": "33201c78-40b6-41e5-8d5f-b2896610f53a",
   "metadata": {},
   "outputs": [
    {
     "data": {
      "text/plain": [
       "False"
      ]
     },
     "execution_count": 8,
     "metadata": {},
     "output_type": "execute_result"
    }
   ],
   "source": [
    "is_winner(board, \"X\")"
   ]
  },
  {
   "cell_type": "code",
   "execution_count": 9,
   "id": "83b09eb7-51d5-4415-adbf-9e5248ec4fa9",
   "metadata": {},
   "outputs": [
    {
     "data": {
      "text/plain": [
       "False"
      ]
     },
     "execution_count": 9,
     "metadata": {},
     "output_type": "execute_result"
    }
   ],
   "source": [
    "is_winner(board, \"O\")"
   ]
  },
  {
   "cell_type": "code",
   "execution_count": 10,
   "id": "bb5ac9f2-456b-45df-a2e9-517d89053762",
   "metadata": {},
   "outputs": [],
   "source": [
    "def get_empty_cells(board):\n",
    "    return [(i, j) for i in range(3) for j in range(3) if board[i][j]==\" \"]"
   ]
  },
  {
   "cell_type": "code",
   "execution_count": 11,
   "id": "c2302cb0-8f7d-49ee-b2a1-7766f1b61ea4",
   "metadata": {},
   "outputs": [
    {
     "data": {
      "text/plain": [
       "[(0, 0), (0, 1), (0, 2), (1, 0), (1, 1), (1, 2), (2, 0), (2, 1), (2, 2)]"
      ]
     },
     "execution_count": 11,
     "metadata": {},
     "output_type": "execute_result"
    }
   ],
   "source": [
    "get_empty_cells(board)"
   ]
  },
  {
   "cell_type": "code",
   "execution_count": 12,
   "id": "37168f1c-716c-4a4e-8519-082a81b9eb26",
   "metadata": {},
   "outputs": [],
   "source": [
    "def minimax(board, depth, is_maximizer):\n",
    "    if is_winner(board, \"O\"):\n",
    "        return 1\n",
    "    elif is_winner(board, \"X\"):\n",
    "        return -1\n",
    "    elif is_board_full(board):\n",
    "        return 0\n",
    "\n",
    "    if is_maximizer:\n",
    "        max_eval = float(\"-inf\")\n",
    "        for i, j in get_empty_cells(board):\n",
    "            board[i][j]=\"O\"\n",
    "            eval=minimax(board, depth+1, False)\n",
    "            board[i][j]=\" \"\n",
    "            max_eval = max(max_eval, eval)\n",
    "        return max_eval\n",
    "    else:\n",
    "        min_eval = float(\"inf\")\n",
    "        for i, j in get_empty_cells(board):\n",
    "            board[i][j]=\"X\"\n",
    "            eval=minimax(board, depth+1, True)\n",
    "            board[i][j]=\" \"\n",
    "            min_eval = min(min_eval, eval)\n",
    "        return min_eval"
   ]
  },
  {
   "cell_type": "code",
   "execution_count": 13,
   "id": "46dbc595-64cd-45fd-97aa-ace438d6ad71",
   "metadata": {},
   "outputs": [],
   "source": [
    "def best_move(board):\n",
    "    best_val = float(\"-inf\")\n",
    "    best_move = None\n",
    "\n",
    "    for i, j in get_empty_cells(board):\n",
    "        board[i][j]=\"O\"\n",
    "        move_val = minimax(board, 0, False)\n",
    "        board[i][j]=\" \"\n",
    "\n",
    "        if move_val>best_val:\n",
    "            best_move=(i, j)\n",
    "            best_val = move_val\n",
    "            \n",
    "    return best_move"
   ]
  },
  {
   "cell_type": "code",
   "execution_count": 14,
   "id": "1ce6b85b-2882-461a-8b52-08af2e1ef200",
   "metadata": {},
   "outputs": [],
   "source": [
    "def main():\n",
    "    board = [[\" \" for _ in range(3)] for _ in range(3)]\n",
    "\n",
    "    while True:\n",
    "        print_board(board)\n",
    "\n",
    "        # Human Move\n",
    "        row=int(input(\"Enter row number : \"))-1\n",
    "        col=int(input(\"Enter column number : \"))-1\n",
    "\n",
    "        if board[row][col]==\" \":\n",
    "            board[row][col]=\"X\"\n",
    "        else:\n",
    "            print(\"Cell is already filled, Try Again!\")\n",
    "            continue\n",
    "\n",
    "        if is_winner(board, \"X\"):\n",
    "            print_board(board)\n",
    "            print(\"Congratulation! You win.\")\n",
    "            break\n",
    "        elif is_board_full(board):\n",
    "            print_board(board)\n",
    "            print(\"Ohhh! It's a Tie\")\n",
    "            break\n",
    "\n",
    "        print_board(board)\n",
    "\n",
    "        # AI Move\n",
    "        print(\"It's AI Move\")\n",
    "        ai_row, ai_col = best_move(board)\n",
    "        board[ai_row][ai_col]=\"O\"\n",
    "\n",
    "        if is_winner(board, \"O\"):\n",
    "            print_board(board)\n",
    "            print(\"AI Wins\")\n",
    "            break\n",
    "        elif is_board_full(board):\n",
    "            print_board(board)\n",
    "            print(\"Ohhh! It's a Tie\")\n",
    "            break"
   ]
  },
  {
   "cell_type": "code",
   "execution_count": null,
   "id": "e0c9cc00-7ed3-43a9-91f8-46e9cb177226",
   "metadata": {},
   "outputs": [
    {
     "name": "stdout",
     "output_type": "stream",
     "text": [
      "  |   |  \n",
      "---------\n",
      "  |   |  \n",
      "---------\n",
      "  |   |  \n",
      "---------\n"
     ]
    }
   ],
   "source": [
    "main()"
   ]
  },
  {
   "cell_type": "code",
   "execution_count": null,
   "id": "a72b8a17-08e1-413f-b59f-e312176046d4",
   "metadata": {},
   "outputs": [],
   "source": []
  }
 ],
 "metadata": {
  "kernelspec": {
   "display_name": "Python 3 (ipykernel)",
   "language": "python",
   "name": "python3"
  },
  "language_info": {
   "codemirror_mode": {
    "name": "ipython",
    "version": 3
   },
   "file_extension": ".py",
   "mimetype": "text/x-python",
   "name": "python",
   "nbconvert_exporter": "python",
   "pygments_lexer": "ipython3",
   "version": "3.11.0"
  },
  "widgets": {
   "application/vnd.jupyter.widget-state+json": {
    "state": {},
    "version_major": 2,
    "version_minor": 0
   }
  }
 },
 "nbformat": 4,
 "nbformat_minor": 5
}
